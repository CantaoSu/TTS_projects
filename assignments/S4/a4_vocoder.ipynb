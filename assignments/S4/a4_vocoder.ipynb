{
  "nbformat": 4,
  "nbformat_minor": 0,
  "metadata": {
    "colab": {
      "provenance": []
    },
    "kernelspec": {
      "name": "python3",
      "display_name": "Python 3"
    },
    "language_info": {
      "name": "python"
    }
  },
  "cells": [
    {
      "cell_type": "code",
      "execution_count": 5,
      "metadata": {
        "colab": {
          "base_uri": "https://localhost:8080/"
        },
        "id": "IYoCQrBietj2",
        "outputId": "9f290b7a-4e12-4133-c30a-5e62a4a44b84"
      },
      "outputs": [
        {
          "output_type": "stream",
          "name": "stdout",
          "text": [
            "Collecting git+https://github.com/Equidamoid/Python-WORLD@feat/setup\n",
            "  Cloning https://github.com/Equidamoid/Python-WORLD (to revision feat/setup) to /tmp/pip-req-build-cqg3sg3g\n",
            "  Running command git clone --filter=blob:none --quiet https://github.com/Equidamoid/Python-WORLD /tmp/pip-req-build-cqg3sg3g\n",
            "  Running command git checkout -b feat/setup --track origin/feat/setup\n",
            "  Switched to a new branch 'feat/setup'\n",
            "  Branch 'feat/setup' set up to track remote branch 'feat/setup' from 'origin'.\n",
            "  Resolved https://github.com/Equidamoid/Python-WORLD to commit 52c6b5b4e5c8d7cbf75c847c775a9005f3da9888\n",
            "  Preparing metadata (setup.py) ... \u001b[?25l\u001b[?25hdone\n",
            "Requirement already satisfied: numpy in /usr/local/lib/python3.10/dist-packages (from python-world==0.0.2) (1.23.5)\n",
            "Requirement already satisfied: scipy in /usr/local/lib/python3.10/dist-packages (from python-world==0.0.2) (1.11.4)\n",
            "Requirement already satisfied: matplotlib in /usr/local/lib/python3.10/dist-packages (from python-world==0.0.2) (3.7.1)\n",
            "Requirement already satisfied: numba in /usr/local/lib/python3.10/dist-packages (from python-world==0.0.2) (0.58.1)\n",
            "Requirement already satisfied: contourpy>=1.0.1 in /usr/local/lib/python3.10/dist-packages (from matplotlib->python-world==0.0.2) (1.2.0)\n",
            "Requirement already satisfied: cycler>=0.10 in /usr/local/lib/python3.10/dist-packages (from matplotlib->python-world==0.0.2) (0.12.1)\n",
            "Requirement already satisfied: fonttools>=4.22.0 in /usr/local/lib/python3.10/dist-packages (from matplotlib->python-world==0.0.2) (4.46.0)\n",
            "Requirement already satisfied: kiwisolver>=1.0.1 in /usr/local/lib/python3.10/dist-packages (from matplotlib->python-world==0.0.2) (1.4.5)\n",
            "Requirement already satisfied: packaging>=20.0 in /usr/local/lib/python3.10/dist-packages (from matplotlib->python-world==0.0.2) (23.2)\n",
            "Requirement already satisfied: pillow>=6.2.0 in /usr/local/lib/python3.10/dist-packages (from matplotlib->python-world==0.0.2) (9.4.0)\n",
            "Requirement already satisfied: pyparsing>=2.3.1 in /usr/local/lib/python3.10/dist-packages (from matplotlib->python-world==0.0.2) (3.1.1)\n",
            "Requirement already satisfied: python-dateutil>=2.7 in /usr/local/lib/python3.10/dist-packages (from matplotlib->python-world==0.0.2) (2.8.2)\n",
            "Requirement already satisfied: llvmlite<0.42,>=0.41.0dev0 in /usr/local/lib/python3.10/dist-packages (from numba->python-world==0.0.2) (0.41.1)\n",
            "Requirement already satisfied: six>=1.5 in /usr/local/lib/python3.10/dist-packages (from python-dateutil>=2.7->matplotlib->python-world==0.0.2) (1.16.0)\n"
          ]
        }
      ],
      "source": [
        "!pip install git+https://github.com/Equidamoid/Python-WORLD@feat/setup"
      ]
    },
    {
      "cell_type": "code",
      "source": [
        "from world.main import World\n",
        "import scipy.io.wavfile\n",
        "import numpy as np\n",
        "import os\n",
        "import matplotlib.pyplot as plt\n",
        "\n",
        "def process_audio(file_path):\n",
        "    sr, pcm = scipy.io.wavfile.read(file_path)\n",
        "    # Convert stereo pcm to mono (if needed)\n",
        "    if len(pcm.shape) == 2:\n",
        "        pcm = np.mean(pcm, axis=1)\n",
        "\n",
        "    w = World()\n",
        "    data = w.encode(sr, pcm)\n",
        "    # w.scale_pitch(data, 1.5)\n",
        "    w.decode(data)\n",
        "\n",
        "    # Save the processed audio\n",
        "    scipy.io.wavfile.write(f'vocoded_{file_name}', sr, data['out'])\n",
        "\n",
        "\n",
        "# Use the current working directory\n",
        "directory = os.getcwd()\n",
        "\n",
        "# Process each WAV file in the directory\n",
        "for file_name in os.listdir(directory):\n",
        "    if file_name.endswith('.wav'):\n",
        "        process_audio(os.path.join(directory, file_name))\n"
      ],
      "metadata": {
        "id": "IxcQ8wz8i60p"
      },
      "execution_count": 6,
      "outputs": []
    },
    {
      "cell_type": "code",
      "source": [],
      "metadata": {
        "id": "6ewuIYtqS4dJ"
      },
      "execution_count": null,
      "outputs": []
    }
  ]
}